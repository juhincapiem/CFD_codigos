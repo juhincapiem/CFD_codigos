{
 "cells": [
  {
   "attachments": {},
   "cell_type": "markdown",
   "metadata": {},
   "source": [
    "\\begin{equation}\n",
    "\\begin{aligned}\n",
    "& \\frac{\\partial u}{\\partial t}+u \\frac{\\partial u}{\\partial x}+v \\frac{\\partial u}{\\partial y}=-\\frac{1}{\\rho} \\frac{\\partial p}{\\partial x}+\\nu\\left(\\frac{\\partial^2 u}{\\partial x^2}+\\frac{\\partial^2 u}{\\partial y^2}\\right) \\\\\n",
    "& \\frac{\\partial v}{\\partial t}+u \\frac{\\partial v}{\\partial x}+v \\frac{\\partial v}{\\partial y}=-\\frac{1}{\\rho} \\frac{\\partial p}{\\partial y}+\\nu\\left(\\frac{\\partial^2 v}{\\partial x^2}+\\frac{\\partial^2 v}{\\partial y^2}\\right) \\\\\n",
    "& \\frac{\\partial^2 p}{\\partial x^2}+\\frac{\\partial^2 p}{\\partial y^2}=-\\rho\\left(\\frac{\\partial u}{\\partial x} \\frac{\\partial u}{\\partial x}+2 \\frac{\\partial u}{\\partial y} \\frac{\\partial v}{\\partial x}+\\frac{\\partial v}{\\partial y} \\frac{\\partial v}{\\partial y}\\right)\n",
    "\\end{aligned}\n",
    "\\end{equation}"
   ]
  },
  {
   "cell_type": "code",
   "execution_count": 4,
   "metadata": {},
   "outputs": [],
   "source": [
    "#Librería para plotear en 3D\n",
    "from mpl_toolkits.mplot3d import Axes3D\n",
    "\n",
    "#Incluímos las librerías que vamos a usar\n",
    "import numpy as np\n",
    "import matplotlib\n",
    "import matplotlib.pyplot as plt\n",
    "import time, sys"
   ]
  },
  {
   "cell_type": "code",
   "execution_count": 38,
   "metadata": {},
   "outputs": [],
   "source": [
    "class domain:    \n",
    "    #El constructor se encarga de hacer el preprocesamiento\n",
    "    def __init__(self, Lx, Ly, dx, dy):       \n",
    "        self.Nx = int(Lx/dx)                     #Número de puntos desde 0 hasta Nx\n",
    "        self.x = np.linspace(0, Lx, self.Nx+1)   #Creo un vector que va desde el 0 hasta Lx con Nx+1 divisiones\n",
    "        self.dx = self.x[1]-self.x[0]            #Chequeo del dx, para que coincida\n",
    "        \n",
    "        self.Ny = int(Ly/dy)                     #Número de puntos desde 0 hasta Ny\n",
    "        self.y = np.linspace(0, Ly, self.Ny+1)   #Creo un vector que va desde el 0 hasta Ly con Ny+1 divisiones\n",
    "        self.dy = self.y[1]-self.y[0]            #Chequeo del dy, para que coincida\n",
    "\n",
    "        self.X, self.Y = np.meshgrid(self.x, self.y)\n",
    "\n",
    "        fig = plt.figure()                                           #Creo una ventana\n",
    "        ax = fig.add_subplot(111)                                    #A la ventana le añado un plano en 2d\n",
    "\n",
    "        for i in range(0,self.Nx+1):\n",
    "            ax.plot(self.X[:,i], self.Y[:,0], color='k')\n",
    "\n",
    "        for i in range(0,self.Nx+1):\n",
    "            ax.plot(self.X[0,:], self.Y[i,:], color='k')\n",
    "\n",
    "        ax.plot(self.X, self.Y, color = 'k', ls='None', marker='.')  #Dentro del plano creado grafico \n",
    "        plt.xlim([0, Lx])\n",
    "        plt.ylim([0, Ly])\n",
    "        plt.title('Grid of the domain')\n",
    "        plt.xlabel('$x$')\n",
    "        plt.ylabel('$y$')\n",
    "        plt.show\n",
    "\n",
    "    def constantes(self, eta, rho):\n",
    "\n",
    "        #Definición de todas las constantes\n",
    "        alfa = float(eta*self.dt/(self.dx)**2) \n",
    "        beta = float(eta*self.dt/(self.dy)**2)\n",
    "        C = float(self.dt/(2*self.dx*rho))\n",
    "        D = float(self.dt/(2*self.dy*rho))\n",
    "        E = float(self.dt/self.dx)\n",
    "        F = float(self.dt/self.dy)\n",
    "        R = float((-rho*self.dx**2*self.dy**2)/(2*(self.dx**2+self.dy**2)))\n",
    "\n",
    "        return alfa, beta, C, D, E, F, R \n",
    "    \n",
    "    def pressure(self, R, u2, v2, P2):\n",
    "        for n in range(50):\n",
    "            P1 = P2.copy()\n",
    "            P2 [1:-1,1:-1] = (self.dy**2*(P1[1:-1, 2:]+P1[1:-1,:-2]) + \n",
    "                            self.dx**2*(P1[2:,1:-1]+P1[:-2,1:-1]))/(2*(self.dx**2+self.dy**2)) - \\\n",
    "                            R*(1/self.dt*((u2[1:-1,2:]-u2[1:-1,:-2])/(2*self.dx) + (v2[2:, 1:-1]-v2[:-2,1:-1])/(2*self.dy)) -\n",
    "                                ((u2[1:-1,2:]-u2[1:-1,:-2])/(2*self.dx))**2 - \n",
    "                                2*(u2[2:,1:-1]-u2[:-2,1:-1])/(2*self.dy)*(v2[1:-1,2:]-v2[1:-1,:-2])/(2*self.dx) +\n",
    "                                ((v2[2:, 1:-1]-v2[:-2,1:-1])/(2*self.dy))**2)\n",
    "            \n",
    "            #Condiciones de frontera\n",
    "            P2[:,0] = P2[:,1]   #dp/dx=0 en x=0\n",
    "            P2[:,-1] = P2[:,-2] #dp/dx=0 en x=Lx\n",
    "            P2[-1,:] = P2[-2,:] #dp/dy=0 en y=0\n",
    "            P2[0,:] = 0          #p=0 y=Ly - Presión atmosférica en la superficie\n",
    "\n",
    "        return P2\n",
    "\n",
    "    def velocity(self, T, dt, eta, rho):\n",
    "        self.Nt = int(T/dt)                       #Número de puntos desde 0 hasta Nt\n",
    "        self.t = np.linspace(0, T, self.Nt+1)     #Creo un vector que va desde el 0 hasta T con Nt+1 divisiones\n",
    "        self.dt = self.t[1]-self.t[0]             #Chequeo del dt, para que coincida\n",
    "\n",
    "        #Constante para definir todas las variables\n",
    "        alfa, beta, C, D, E, F, R = self.constantes(eta, rho)\n",
    "\n",
    "        #Initial conditions: U, V, P = 0 at time t=0\n",
    "        u2 = np.zeros((self.Nx+1, self.Ny+1))\n",
    "        v2 = np.zeros((self.Nx+1, self.Ny+1))\n",
    "        P2  = np.zeros((self.Nx+1, self.Ny+1))\n",
    "\n",
    "        for n in range(1, self.Nt):\n",
    "            u1 = u2.copy()\n",
    "            v1 = v2.copy()\n",
    "            #Uso el corrector de la ecuación de continuidad\n",
    "            P2 = self.pressure(R, u2, v2, P2)\n",
    "\n",
    "            u2[1:-1,1:-1] = u1[1:-1,1:-1] -\\\n",
    "                            E*u1[1:-1,1:-1]*(u1[1:-1,1:-1] - u1[1:-1,:-2]) - \\\n",
    "                            F*v1[1:-1,1:-1]*(u1[1:-1,1:-1]-u1[:-2,1:-1]) - \\\n",
    "                            C*(P2[1:-1, 2:]-P2[1:-1,:-2]) +\\\n",
    "                            alfa*(u1[1:-1,2:] - 2*u1[1:-1,1:-1] + u1[1:-1,:-2]) +\\\n",
    "                            beta*(u1[2:,1:-1] - 2*u1[1:-1,1:-1] + u1[:-2,1:-1])\n",
    "            \n",
    "            v2[1:-1,1:-1] = v1[1:-1,1:-1] -\\\n",
    "                            E*u1[1:-1,1:-1]*(v1[1:-1,1:-1] - v1[1:-1,:-2]) - \\\n",
    "                            F*v1[1:-1,1:-1]*(v1[1:-1,1:-1]-v1[:-2,1:-1]) - \\\n",
    "                            D*(P2[2:,1:-1]-P2[:-2,1:-1]) +\\\n",
    "                            alfa*(v1[1:-1,2:] - 2*u1[1:-1,1:-1] + v1[1:-1,:-2]) +\\\n",
    "                            beta*(v1[2:,1:-1] - 2*v1[1:-1,1:-1] + v1[:-2,1:-1])\n",
    "            \n",
    "            #Después del primer paso temporal entran en vigencia las condiciones de frontera para la velocidad\n",
    "            u2[:,0] = 0 #Condición de no deslizamientos\n",
    "            v2[:,0] = 0\n",
    "            u2[:,-1] = 0\n",
    "            v2[:,-1] = 0\n",
    "            u2[-1,:] = 0\n",
    "            v2[-1,:] = 0\n",
    "            u2[0,:] = 1   #La tapa que se mueve\n",
    "            v2[0,:] = 0\n",
    "\n",
    "        #Luego de solucionar el caso, hago que las matrices sean atributos de la clase \n",
    "        self.u2 = u2\n",
    "        self.v2 = v2\n",
    "        self.P2 = P2\n",
    "\n",
    "    def plotter(self):\n",
    "        fig = plt.figure()\n",
    "        ax = fig.add_subplot(111)\n",
    "        pressure = ax.contourf(self.X, self.Y, self.P2, cmap = 'coolwarm')\n",
    "        fig.colorbar(pressure)\n",
    "        ax.set_title('Simulation at t={:.2f}'.format(self.t[-1]))\n",
    "        ax.set_xlabel('$x[m]$')\n",
    "        ax.set_ylabel('$y[m]$')\n",
    "\n",
    "\n",
    "\n"
   ]
  },
  {
   "cell_type": "code",
   "execution_count": 47,
   "metadata": {},
   "outputs": [
    {
     "name": "stderr",
     "output_type": "stream",
     "text": [
      "C:\\Users\\juanse\\AppData\\Local\\Temp\\ipykernel_7288\\779861362.py:50: RuntimeWarning: overflow encountered in square\n",
      "  ((u2[1:-1,2:]-u2[1:-1,:-2])/(2*self.dx))**2 -\n",
      "C:\\Users\\juanse\\AppData\\Local\\Temp\\ipykernel_7288\\779861362.py:51: RuntimeWarning: overflow encountered in multiply\n",
      "  2*(u2[2:,1:-1]-u2[:-2,1:-1])/(2*self.dy)*(v2[1:-1,2:]-v2[1:-1,:-2])/(2*self.dx) +\n",
      "C:\\Users\\juanse\\AppData\\Local\\Temp\\ipykernel_7288\\779861362.py:52: RuntimeWarning: overflow encountered in square\n",
      "  ((v2[2:, 1:-1]-v2[:-2,1:-1])/(2*self.dy))**2)\n",
      "C:\\Users\\juanse\\AppData\\Local\\Temp\\ipykernel_7288\\779861362.py:49: RuntimeWarning: invalid value encountered in add\n",
      "  R*(1/self.dt*((u2[1:-1,2:]-u2[1:-1,:-2])/(2*self.dx) + (v2[2:, 1:-1]-v2[:-2,1:-1])/(2*self.dy)) -\n"
     ]
    },
    {
     "data": {
      "image/png": "[encoded data removed]",
      "text/plain": [
       "<Figure size 640x480 with 1 Axes>"
      ]
     },
     "metadata": {},
     "output_type": "display_data"
    }
   ],
   "source": [
    "Lx = 2\n",
    "Ly = 2\n",
    "dx = 0.05\n",
    "dy = 0.05\n",
    "cavity = domain(Lx, Ly, dx, dy)\n",
    "\n",
    "T = 0.15\n",
    "dt = 0.005\n",
    "rho = float(1.0)\n",
    "nu = float(0.1)\n",
    "eta = float(nu/rho)\n",
    "cavity.velocity(T, dt, eta, rho)\n"
   ]
  },
  {
   "cell_type": "code",
   "execution_count": 48,
   "metadata": {},
   "outputs": [
    {
     "data": {
      "image/png": "[encoded data removed]",
      "text/plain": [
       "<Figure size 640x480 with 2 Axes>"
      ]
     },
     "metadata": {},
     "output_type": "display_data"
    }
   ],
   "source": [
    "cavity.plotter()"
   ]
  },
  {
   "cell_type": "code",
   "execution_count": 41,
   "metadata": {},
   "outputs": [
    {
     "name": "stdout",
     "output_type": "stream",
     "text": [
      "0.05 0.05\n"
     ]
    }
   ],
   "source": [
    "nx = 41\n",
    "ny = 41\n",
    "nt = 500\n",
    "nit = 50\n",
    "c = 1\n",
    "dx = 2 / (nx - 1)\n",
    "dy = 2 / (ny - 1)\n",
    "print(dx, dy)"
   ]
  },
  {
   "cell_type": "code",
   "execution_count": null,
   "metadata": {},
   "outputs": [],
   "source": []
  }
 ],
 "metadata": {
  "kernelspec": {
   "display_name": "Python 3",
   "language": "python",
   "name": "python3"
  },
  "language_info": {
   "codemirror_mode": {
    "name": "ipython",
    "version": 3
   },
   "file_extension": ".py",
   "mimetype": "text/x-python",
   "name": "python",
   "nbconvert_exporter": "python",
   "pygments_lexer": "ipython3",
   "version": "3.10.11"
  },
  "orig_nbformat": 4
 },
 "nbformat": 4,
 "nbformat_minor": 2
}
