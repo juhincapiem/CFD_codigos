{
 "cells": [
  {
   "cell_type": "markdown",
   "id": "297529dd",
   "metadata": {},
   "source": [
    "### ¿Qué es la ley de conservación?\n",
    "\n",
    "La ley de de conservación nos permite relacionar la cantidad de contenido de una propiedad extensiva dentro de un dominio con el balance entre la entrada y salidad de esta misma propiedad a traves de las superficies del dominio más el efecto de generación o consumos por las fuentes de volumen y de superficie. Escrito en su forma integral es:\n",
    "\n",
    "\\begin{equation}\n",
    "\\frac{\\partial}{\\partial t} \\int_{\\Omega} B \\mathrm{~d} \\Omega=-\\oint_S \\vec{F} \\cdot \\mathrm{d} \\vec{S}+\\int_{\\Omega} Q_V \\mathrm{~d} \\Omega+\\oint_S \\vec{Q}_S \\cdot \\mathrm{d} \\vec{S}\n",
    "\\label{LCIEscalar}\n",
    "\\end{equation}\n",
    "\n",
    "\\begin{equation*}\n",
    "    B = \\rho b\n",
    "\\end{equation*}\n",
    "\n",
    "Donde $b$ es una propiedad intensiva.\n",
    "\n",
    "Antes de mostrar la forma diferencial de la ley de conservación, es preciso traducir la forma diferencial del lenguaje de las matemáticas al lenguaje de la física para mejroar su comprensión. Para esto, se explican cada uno de los términos de la ecuación \\ref{LCIEscalar}:\n",
    "\n",
    "1. El primer termino representa la cantidad total de propiedad escalar contenida dentro de nuestro dominio $\\Omega$\n",
    "\n",
    "\\begin{equation*}\n",
    "\\int_{\\Omega} B \\mathrm{~d} \\Omega\n",
    "\\end{equation*} \n",
    "\n",
    "2. El segundo término expresa la cantidad de $B$ que está cruzando las fronteras del dominio debido al flujo másico. El signo - se le añade al término para que el flujo que entra al dominio sea positivo. \n",
    "\n",
    "\\begin{equation*}\n",
    "-\\oint_S \\vec{F} \\cdot \\mathrm{d} \\vec{S}\n",
    "\\end{equation*}\n",
    "\n",
    "3. Por último, añadimos la contribución de las fuentes dentro del dominio y en su superficie para completar la expresión general de la ley de conservación.\n",
    "\n",
    "\\begin{equation*}\n",
    "\\int_{\\Omega} Q_V \\mathrm{~d} \\Omega+\\oint_S \\vec{Q}_S \\cdot \\mathrm{d} \\vec{S}\n",
    "\\end{equation*}\n",
    "\n",
    "\n",
    "Ahora que ya comprendemos la forma integral, podemos continuar con la forma diferencial. Lo primero que debemos hacer es usar el teorema de Gauss en las integrales de superficie:\n",
    "\n",
    "\\begin{equation}\n",
    "\\int_{\\Omega} \\frac{\\partial B}{\\partial t} \\mathrm{~d} \\Omega+\\int_{\\Omega} \\vec{\\nabla} \\cdot \\vec{F} \\mathrm{~d} \\Omega=\\int_{\\Omega} Q_V \\mathrm{~d} \\Omega+\\int_{\\Omega} \\vec{\\nabla} \\cdot \\vec{Q}_S \\mathrm{~d} \\Omega\n",
    "\\end{equation}\n",
    "\n",
    "Como la ecuación integral de la ley de conservación se escribió para un dominio $\\Omega$ arbitrario, debe ser valido en subdominios diferenciales del dominio, es decir, localmente:\n",
    "\n",
    "\\begin{equation}\n",
    "\\frac{\\partial U}{\\partial t}+\\vec{\\nabla} \\cdot \\vec{F}=Q_V+\\vec{\\nabla} \\cdot \\vec{Q}_S\n",
    "\\end{equation}\n",
    "\n",
    "### Convección \n",
    "\n",
    "#### ¿Qué es la convección?\n",
    "El flujo de la propiedad estudiada se debe a dos fenómeno: transporte convectivo y la agitación molecular, es decir, el efecto difusivvo. El fenómeno de convección es el transporte de una propiedad escalar o vectorial por unidad de volumen (B) debido al flujo de algún fluido. Y se expresa así:\n",
    "\n",
    "\\begin{equation}\n",
    "\\vec{F}_C=B \\vec{v}\n",
    "\\end{equation}\n",
    "\n",
    "La convección tiene algunas características físicas y matemáticas que se deben resaltar. Entre ellas están:\n",
    "* No puede haber convección si no hay flujo de algún fluido. Es decir, si el fluid está en reposo, no hay flujo convectivo.\n",
    "* Tiene un comportamiento direccional. Esto significa que la propiedad escalar se transporta en dirección del flujo; no en dirección contraria al flujo. \n",
    "* Se suele representar como derevida espaciales de primer orden.\n",
    "* Puede convertirse en una EDP no lineal si el flujo convectivo depende de la propiedad transportada.\n",
    "\n",
    "\n",
    "#### ¿De dónde sale la ecuación convectiva?\n",
    "Esta ecuación sale de la ley de conservación en forma diferencial, al reemplazar el término de flujo $ \\vec{F}$ por el tranposte de la propiedad $B$ debido al flujo másico, es decir:\n"
   ]
  },
  {
   "cell_type": "markdown",
   "id": "361399e6",
   "metadata": {},
   "source": [
    "Preguntas para Aldo:\n",
    "1. En caso de que el fluido sea compresible, es decir, su densidad cambie con el tiempo y/o posición ¿Cómo soluciono la ecuación convectiva?\n",
    "2. En el caso de las ondas ¿Qué significa la ecuación convectiva? ¿Transporte de la posición debido a la velocidad de la onda en la cuerda?"
   ]
  },
  {
   "cell_type": "code",
   "execution_count": 1,
   "id": "a8c7d54d",
   "metadata": {},
   "outputs": [],
   "source": [
    "#Incluímos las librerías que vamos a usar\n",
    "import numpy as np\n",
    "import matplotlib\n",
    "import matplotlib.pyplot as plt\n",
    "import time, sys"
   ]
  },
  {
   "cell_type": "code",
   "execution_count": 263,
   "id": "046fa8ea",
   "metadata": {},
   "outputs": [],
   "source": [
    "class domain:\n",
    "    #El constructor se encarga de hacer el preprocesamiento\n",
    "    def __init__(self, L, T, c, dx, dt):       \n",
    "        self.Nx = int(L/dx)                   #Número de puntos desde 0 hasta Nx\n",
    "        self.x = np.linspace(0, L, self.Nx+1) #Creo un vector que va desde el 0 hasta L con Nx divisiones\n",
    "        self.dx = self.x[1]-self.x[0]         #Chequeo del dx, para que coincida\n",
    "\n",
    "        self.Nt = int(T/dt)                   #Número de puntos desde 0 hasta Nt\n",
    "        self.t = np.linspace(0, T, self.Nt+1) #Creo un vector que va desde el 0 hasta T con Nt divisiones\n",
    "        self.dt = self.t[1]-self.t[0]         #Chequeo del dt, para que coincida\n",
    "\n",
    "        self.CFL = c*self.dt/self.dx          #Calculo el número de Courant\n",
    "        \n",
    "        #Creamos tres vectores para resolver el ejercicio de manera didáctica\n",
    "        self.u_fut = np.zeros(self.Nx+1)      \n",
    "        self.u_pres = np.zeros(self.Nx+1)\n",
    "        self.u_pas = np.zeros(self.Nx+1)\n",
    "    \n",
    "    #En este método incluimos la condición inicial para t=0 en todo el dominio x\n",
    "    def initialCond(self):\n",
    "        #Añadimos la condición inicial en la posicón del presente\n",
    "        self.u_pres[int(0.5/self.dx)+1:int(1/self.dx)+1] = 1\n",
    "        \n",
    "        #Graficamos la condición inicial\n",
    "        plt.plot(self.x, self.u_pres)\n",
    "        plt.xlabel('x[m]')\n",
    "        plt.ylabel('Posición [m]')\n",
    "        plt.xlim(0, L)\n",
    "        plt.ylim(np.min(self.u_pres)*1.2, np.max(self.u_pres)*1.2)\n",
    "        plt.title('Condiciones iniciales t=%.2f' % self.t[0])\n",
    "        \n",
    "    #Resolvemos el caso para todo el dominio\n",
    "    def process(self):\n",
    "        for i in range(1, self.Nx):\n",
    "            self.u_fut[0] = 0; self.u_fut[-1] = 0  #Condiciones de frontera                                    \n",
    "            self.u_fut[i] = self.u_pres[i] - self.CFL*(self.u_pres[i]-self.u_pres[i-1])\n",
    "        \n",
    "        for j in range(1, self.Nt):\n",
    "            #Actualizamos vectores, el presente se vuelve pasado y el futuo se vuelve presente\n",
    "            self.u_pas = self.u_pres\n",
    "            self.u_pres = self.u_fut\n",
    "            \n",
    "            for i in range(1, self.Nx):\n",
    "                self.u_fut[0] = 0; self.u_fut[-1] = 0  #Condiciones de frontera  \n",
    "                #self.u_fut[i] = self.u_pas[i] - self.CFL*(self.u_pres[i+1] - self.u_pres[i-1]) #Esquema centrado\n",
    "                self.u_fut[i] = self.u_pres[i] - self.CFL*(self.u_pres[i]-self.u_pres[i-1]) #f para tiempo y b para espacio\n",
    "                #self.u_fut[i] = self.u_pres[i] - self.CFL*(self.u_pres[i+1]-self.u_pres[i]) #f par tiempo y f para espacio\n",
    "                \n",
    "    #Este método me permite graficar la última \n",
    "    def graph(self):\n",
    "        #Graficamos la condición inicial\n",
    "        plt.plot(self.x, self.u_fut)\n",
    "        plt.xlabel('x[m]')\n",
    "        plt.ylabel('Posición [m]')\n",
    "        plt.xlim(0, L)\n",
    "        plt.ylim(np.min(self.u_fut)*1.2, np.max(self.u_fut)*1.2)\n",
    "        plt.title('Posición de la cuerda t=%.2f' % self.t[-1])\n",
    "            \n",
    "    #Este método me permite resumir el preprocesamiento del dominio\n",
    "    def __str__(self):\n",
    "        return 'La simulación cuenta con {} puntos en x y {} puntos en t.\\nEl número CFL es {:.2f}'.format(self.Nx, self.Nt, self.CFL)"
   ]
  },
  {
   "cell_type": "code",
   "execution_count": 270,
   "id": "e0dd371f",
   "metadata": {},
   "outputs": [
    {
     "name": "stdout",
     "output_type": "stream",
     "text": [
      "La simulación cuenta con 40 puntos en x y 40 puntos en t.\n",
      "El número CFL es 0.20\n"
     ]
    }
   ],
   "source": [
    "#Definimos las propiedades y condiciones de simulación\n",
    "L = 2\n",
    "T = 0.4\n",
    "c = 1\n",
    "dx = 0.05\n",
    "dt = 0.01\n",
    "\n",
    "#Creo el objeto string\n",
    "string = domain(L, T, c, dx, dt)\n",
    "print(string)"
   ]
  },
  {
   "cell_type": "code",
   "execution_count": 271,
   "id": "9f06deeb",
   "metadata": {},
   "outputs": [
    {
     "data": {
      "image/png": "[encoded data removed]",
      "text/plain": [
       "<Figure size 432x288 with 1 Axes>"
      ]
     },
     "metadata": {
      "needs_background": "light"
     },
     "output_type": "display_data"
    }
   ],
   "source": [
    "string.initialCond()"
   ]
  },
  {
   "cell_type": "code",
   "execution_count": 272,
   "id": "6d08274b",
   "metadata": {},
   "outputs": [
    {
     "data": {
      "image/png": "[encoded data removed]",
      "text/plain": [
       "<Figure size 432x288 with 1 Axes>"
      ]
     },
     "metadata": {
      "needs_background": "light"
     },
     "output_type": "display_data"
    }
   ],
   "source": [
    "string.process()\n",
    "string.graph()"
   ]
  },
  {
   "cell_type": "code",
   "execution_count": null,
   "id": "725694ab",
   "metadata": {},
   "outputs": [],
   "source": []
  }
 ],
 "metadata": {
  "kernelspec": {
   "display_name": "Python 3",
   "language": "python",
   "name": "python3"
  },
  "language_info": {
   "codemirror_mode": {
    "name": "ipython",
    "version": 3
   },
   "file_extension": ".py",
   "mimetype": "text/x-python",
   "name": "python",
   "nbconvert_exporter": "python",
   "pygments_lexer": "ipython3",
   "version": "3.10.10"
  }
 },
 "nbformat": 4,
 "nbformat_minor": 5
}
