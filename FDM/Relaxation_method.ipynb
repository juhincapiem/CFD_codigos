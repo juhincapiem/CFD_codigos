{
 "cells": [
  {
   "cell_type": "code",
   "execution_count": 1,
   "metadata": {},
   "outputs": [],
   "source": [
    "import numpy as np"
   ]
  },
  {
   "cell_type": "code",
   "execution_count": 48,
   "metadata": {},
   "outputs": [],
   "source": [
    "def relax(error, Xold):\n",
    "    x = np.zeros((3, 1))\n",
    "    change = float(1.0)\n",
    "\n",
    "    while change > error:\n",
    "        alfa = float(-1/5*(2-4*Xold[0]-3*Xold[1])) #X3\n",
    "        beta = float(-1/4*(5+2*Xold[0]-5*Xold[2])) #X2\n",
    "        delta = float(1/8*(-3-8*Xold[1]))          #X1\n",
    "\n",
    "        x[0]=delta; x[1]=beta; x[2]=alfa\n",
    "\n",
    "        change = np.sum(np.abs(x) - np.abs(Xold))/np.sum(np.abs(x))\n",
    "        Xold = x\n",
    "\n",
    "    \n",
    "    return x"
   ]
  },
  {
   "cell_type": "code",
   "execution_count": 55,
   "metadata": {},
   "outputs": [
    {
     "name": "stdout",
     "output_type": "stream",
     "text": [
      "[[ 2.20833333]\n",
      " [-2.58333333]\n",
      " [-0.18333333]]\n",
      "[[ 2.625 ]\n",
      " [-1.8125]\n",
      " [-1.7   ]]\n"
     ]
    }
   ],
   "source": [
    "A = np.array([[4, 3, -5], \n",
    "              [-2, -4, 5], \n",
    "              [8, 8, 0]])\n",
    "\n",
    "b = np.array([[2], \n",
    "              [5], \n",
    "              [-3]])\n",
    "\n",
    "x_ex = np.linalg.solve(A,b)\n",
    "print(x_ex)\n",
    "\n",
    "################################\n",
    "epsilon = float(1e-4)\n",
    "Xold = np.array([[float(1)],\n",
    "                 [float(-1)],\n",
    "                 [float(-1)]])\n",
    "\n",
    "x = np.zeros((3,1))\n",
    "x = relax(epsilon, Xold)\n",
    "print(x)\n"
   ]
  }
 ],
 "metadata": {
  "kernelspec": {
   "display_name": "Python 3",
   "language": "python",
   "name": "python3"
  },
  "language_info": {
   "codemirror_mode": {
    "name": "ipython",
    "version": 3
   },
   "file_extension": ".py",
   "mimetype": "text/x-python",
   "name": "python",
   "nbconvert_exporter": "python",
   "pygments_lexer": "ipython3",
   "version": "3.10.11"
  },
  "orig_nbformat": 4
 },
 "nbformat": 4,
 "nbformat_minor": 2
}
