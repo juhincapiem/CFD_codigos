{
 "cells": [
  {
   "cell_type": "code",
   "execution_count": null,
   "id": "dbed67f0",
   "metadata": {},
   "outputs": [],
   "source": [
    "#Librería para plotear en 3D\n",
    "from mpl_toolkits.mplot3d import Axes3D\n",
    "\n",
    "#Incluímos las librerías que vamos a usar\n",
    "import numpy as np\n",
    "import matplotlib\n",
    "import matplotlib.pyplot as plt\n",
    "import time, sys"
   ]
  }
 ],
 "metadata": {
  "kernelspec": {
   "display_name": "Python 3 (ipykernel)",
   "language": "python",
   "name": "python3"
  },
  "language_info": {
   "codemirror_mode": {
    "name": "ipython",
    "version": 3
   },
   "file_extension": ".py",
   "mimetype": "text/x-python",
   "name": "python",
   "nbconvert_exporter": "python",
   "pygments_lexer": "ipython3",
   "version": "3.10.10"
  }
 },
 "nbformat": 4,
 "nbformat_minor": 5
}
